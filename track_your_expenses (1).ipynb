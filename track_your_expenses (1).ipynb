{
 "cells": [
  {
   "cell_type": "code",
   "execution_count": null,
   "id": "eceb4c22-eef1-4c63-a1ec-bde6ca93216e",
   "metadata": {},
   "outputs": [
    {
     "name": "stdout",
     "output_type": "stream",
     "text": [
      "====================================\n",
      "   Welcome to Your Expense Tracker!\n",
      "====================================\n",
      "1. Add an Expense\n",
      "2. Show Summary\n",
      "3. Exit\n"
     ]
    }
   ],
   "source": [
    "import csv\n",
    "from datetime import datetime\n",
    "\n",
    "expenses = \"expenses.csv\"\n",
    "\n",
    "try:\n",
    "    with open(expenses, 'x', newline='') as f:\n",
    "        writer = csv.writer(f)\n",
    "        writer.writerow([\"Date\", \"Category\", \"Amount\", \"Note\"])\n",
    "except FileExistsError:\n",
    "    pass\n",
    "\n",
    "def add_expense():\n",
    "    print(\"\\nLet’s add a new expense!\")\n",
    "    date = input(\"Enter the date(yyyy/mm/dd) \") or datetime.today().strftime('%Y-%m-%d')\n",
    "    category = input(\"What category is this? (e.g. Food, Travel): \")\n",
    "    amount = input(\"How much did you spend? Rs: \")\n",
    "    note = input(\"Any notes? (optional): \")\n",
    "\n",
    "    with open(expenses, 'a', newline='') as f:\n",
    "        writer = csv.writer(f)\n",
    "        writer.writerow([date, category, amount, note])\n",
    "    \n",
    "    print(\"Done! Expense added.\\n\")\n",
    "\n",
    "def show_summary():\n",
    "    print(\"\\nLet’s see your total spending.\")\n",
    "    total = 0\n",
    "    categories = {}\n",
    "\n",
    "    with open(expenses, 'r') as f:\n",
    "        reader = csv.DictReader(f)\n",
    "        for row in reader:\n",
    "            try:\n",
    "                amount = float(row[\"Amount\"])\n",
    "            except ValueError:\n",
    "                continue\n",
    "\n",
    "            total += amount\n",
    "            cat = row[\"Category\"]\n",
    "            categories[cat] = categories.get(cat, 0) + amount\n",
    "\n",
    "    print(f\"\\nYou’ve spent a total of Rs {total:.2f}\")\n",
    "    print(\"Here’s how you spent it:\")\n",
    "    for cat, amt in categories.items():\n",
    "        print(f\" - {cat}: Rs {amt:.2f}\")\n",
    "    print()\n",
    "\n",
    "while True:\n",
    "    print(\"====================================\")\n",
    "    print(\"   Welcome to Your Expense Tracker!\")\n",
    "    print(\"====================================\")\n",
    "    print(\"1. Add an Expense\")\n",
    "    print(\"2. Show Summary\")\n",
    "    print(\"3. Exit\")\n",
    "    choice = input(\"What do you want to do? (1/2/3): \")\n",
    "\n",
    "    if choice == '1':\n",
    "        add_expense()\n",
    "    elif choice == '2':\n",
    "        show_summary()\n",
    "    elif choice == '3':\n",
    "        print(\"Goodbye!\")\n",
    "        break\n",
    "    else:\n",
    "        print(\"Oops, that's not an option. Try again.\\n\")\n"
   ]
  },
  {
   "cell_type": "code",
   "execution_count": null,
   "id": "028f6be1-daad-4355-9992-3bbc98a7200a",
   "metadata": {},
   "outputs": [],
   "source": []
  }
 ],
 "metadata": {
  "kernelspec": {
   "display_name": "Python 3",
   "language": "python",
   "name": "python3"
  },
  "language_info": {
   "codemirror_mode": {
    "name": "ipython",
    "version": 3
   },
   "file_extension": ".py",
   "mimetype": "text/x-python",
   "name": "python",
   "nbconvert_exporter": "python",
   "pygments_lexer": "ipython3",
   "version": "3.13.2"
  }
 },
 "nbformat": 4,
 "nbformat_minor": 5
}
